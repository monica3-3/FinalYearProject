{
 "cells": [
  {
   "cell_type": "code",
   "execution_count": 1,
   "metadata": {},
   "outputs": [],
   "source": [
    "# 导入必要的库\n",
    "import torch\n",
    "import torch.nn as nn\n",
    "import numpy as np\n",
    "import torch.optim as optim\n",
    "from torchvision import transforms, datasets, models, utils\n",
    "from torchsummary import summary # 可视化训练过程\n",
    "from torch.utils.data import DataLoader\n",
    "import time\n",
    "import matplotlib.pyplot as plt\n",
    "import os\n",
    "import seaborn as sns\n",
    "import pandas as pd\n",
    "from mlxtend.plotting import plot_confusion_matrix\n",
    "from sklearn.metrics import confusion_matrix\n",
    "from PIL import Image"
   ]
  },
  {
   "cell_type": "code",
   "execution_count": 2,
   "metadata": {},
   "outputs": [],
   "source": [
    "# 分为为train, val, test定义transform\n",
    "image_transforms = {\n",
    "    'train' : transforms.Compose([\n",
    "        transforms.RandomResizedCrop(size=300, scale=(0.8, 1.1)), #功能：随机长宽比裁剪原始图片, 表示随机crop出来的图片会在的0.08倍至1.1倍之间\n",
    "        transforms.RandomRotation(degrees=10), #功能：根据degrees随机旋转一定角度, 则表示在（-10，+10）度之间随机旋转\n",
    "        transforms.Resize(256),\n",
    "        transforms.ColorJitter(0.2, 0.4, 0.4), #功能：修改亮度、对比度和饱和度\n",
    "        transforms.RandomHorizontalFlip(), #功能：水平翻转\n",
    "        transforms.CenterCrop(size=256), #功能：根据给定的size从中心裁剪，size - 若为sequence,则为(h,w)，若为int，则(size,size)\n",
    "        transforms.ToTensor(), #numpy --> tensor\n",
    "        # 功能：对数据按通道进行标准化（RGB），即先减均值，再除以标准差\n",
    "        transforms.Normalize([0.485, 0.456, 0.406],# mean\n",
    "                             [0.229, 0.224, 0.225])# std \n",
    "    ]),\n",
    "    \n",
    "    'val' : transforms.Compose([\n",
    "        transforms.Resize(300),\n",
    "        transforms.CenterCrop(256),\n",
    "        transforms.ToTensor(),\n",
    "        transforms.Normalize([0.485, 0.456, 0.406],# mean\n",
    "                             [0.229, 0.224, 0.225])# std \n",
    "    ]),\n",
    "    \n",
    "    'test' : transforms.Compose([\n",
    "        transforms.Resize(300),\n",
    "        transforms.CenterCrop(256),\n",
    "        transforms.ToTensor(),\n",
    "        transforms.Normalize([0.485, 0.456, 0.406],# mean\n",
    "                             [0.229, 0.224, 0.225])# std \n",
    "    ])\n",
    "}"
   ]
  },
  {
   "cell_type": "code",
   "execution_count": 3,
   "metadata": {},
   "outputs": [
    {
     "data": {
      "text/plain": [
       "{0: 'contaminated', 1: 'water'}"
      ]
     },
     "execution_count": 3,
     "metadata": {},
     "output_type": "execute_result"
    }
   ],
   "source": [
    "# 加载数据集\n",
    "\n",
    "# 数据集所在目录路径\n",
    "data_dir = './data.new/'\n",
    "# train路径\n",
    "train_dir = data_dir + 'train/'\n",
    "# val路径\n",
    "val_dir = data_dir + 'val/'\n",
    "# test路径\n",
    "test_dir = data_dir + 'test/'\n",
    "\n",
    "# 从文件中读取数据\n",
    "datasets = {\n",
    "    'train' : datasets.ImageFolder(train_dir, transform=image_transforms['train']), # 读取train中的数据集，并transform\n",
    "    'val' : datasets.ImageFolder(val_dir, transform=image_transforms['val']),  # 读取val中的数据集，并transform\n",
    "    'test' : datasets.ImageFolder(test_dir, transform=image_transforms['test']) #  读取test中的数据集，并transform\n",
    "}\n",
    "\n",
    "# 定义BATCH_SIZE\n",
    "BATCH_SIZE = 8 # 每批读取128张图片\n",
    "\n",
    "# DataLoader : 创建iterator, 按批读取数据\n",
    "dataloaders = {\n",
    "    'train' : DataLoader(datasets['train'], batch_size=BATCH_SIZE, shuffle=True), # 训练集\n",
    "    'val' : DataLoader(datasets['val'], batch_size=BATCH_SIZE, shuffle=True), # 验证集\n",
    "    'test' : DataLoader(datasets['test'], batch_size=36, shuffle=True) # 测试集\n",
    "}\n",
    "\n",
    "# 创建label的键值对\n",
    "LABEL = dict((v, k) for k, v in datasets['train'].class_to_idx.items())\n",
    "\n",
    "LABEL"
   ]
  },
  {
   "cell_type": "code",
   "execution_count": 4,
   "metadata": {},
   "outputs": [
    {
     "data": {
      "text/plain": [
       "Dataset ImageFolder\n",
       "    Number of datapoints: 70\n",
       "    Root location: ./data.new/train/\n",
       "    StandardTransform\n",
       "Transform: Compose(\n",
       "               RandomResizedCrop(size=(300, 300), scale=(0.8, 1.1), ratio=(0.75, 1.3333), interpolation=bilinear)\n",
       "               RandomRotation(degrees=[-10.0, 10.0], interpolation=nearest, expand=False, fill=0)\n",
       "               Resize(size=256, interpolation=bilinear)\n",
       "               ColorJitter(brightness=[0.8, 1.2], contrast=[0.6, 1.4], saturation=[0.6, 1.4], hue=None)\n",
       "               RandomHorizontalFlip(p=0.5)\n",
       "               CenterCrop(size=(256, 256))\n",
       "               ToTensor()\n",
       "               Normalize(mean=[0.485, 0.456, 0.406], std=[0.229, 0.224, 0.225])\n",
       "           )"
      ]
     },
     "execution_count": 4,
     "metadata": {},
     "output_type": "execute_result"
    }
   ],
   "source": [
    "# train 简介\n",
    "dataloaders['train'].dataset"
   ]
  },
  {
   "cell_type": "code",
   "execution_count": 5,
   "metadata": {},
   "outputs": [
    {
     "data": {
      "text/plain": [
       "['contaminated', 'water']"
      ]
     },
     "execution_count": 5,
     "metadata": {},
     "output_type": "execute_result"
    }
   ],
   "source": [
    "dataloaders['train'].dataset.classes # train下的类别"
   ]
  },
  {
   "cell_type": "code",
   "execution_count": 6,
   "metadata": {},
   "outputs": [
    {
     "data": {
      "text/plain": [
       "'./data.new/train/'"
      ]
     },
     "execution_count": 6,
     "metadata": {},
     "output_type": "execute_result"
    }
   ],
   "source": [
    "dataloaders['train'].dataset.root # train的路径"
   ]
  },
  {
   "cell_type": "code",
   "execution_count": 7,
   "metadata": {},
   "outputs": [
    {
     "data": {
      "text/plain": [
       "['IMG_2340的副本.jpg',\n",
       " 'IMG_2010.jpg',\n",
       " 'IMG_2366.jpg',\n",
       " 'IMG_2361.jpg',\n",
       " 'IMG_2342的副本.jpg',\n",
       " 'IMG_2377.jpg',\n",
       " 'IMG_2045的副本.jpg',\n",
       " 'IMG_2066.jpg',\n",
       " 'IMG_2010的副本.jpg',\n",
       " 'IMG_2110的副本.jpg',\n",
       " 'IMG_2058.jpg',\n",
       " 'IMG_2092的副本.jpg',\n",
       " 'IMG_2110.jpg',\n",
       " 'IMG_2090的副本.jpg',\n",
       " 'IMG_2344的副本.jpg',\n",
       " 'IMG_2042的副本.jpg',\n",
       " 'IMG_2090.jpg',\n",
       " 'IMG_2085.jpg',\n",
       " 'IMG_2066的副本.jpg',\n",
       " 'IMG_2045.jpg',\n",
       " 'IMG_2092.jpg',\n",
       " 'IMG_2085的副本.jpg',\n",
       " 'IMG_2336.jpg',\n",
       " 'IMG_2023的副本.jpg',\n",
       " 'IMG_2334.jpg',\n",
       " 'IMG_2042.jpg',\n",
       " 'IMG_2336的副本.jpg',\n",
       " 'IMG_2390.jpg',\n",
       " 'IMG_2378.jpg',\n",
       " 'IMG_2344.jpg',\n",
       " 'IMG_2340.jpg',\n",
       " 'IMG_2023.jpg',\n",
       " 'IMG_2058的副本.jpg',\n",
       " 'IMG_2334的副本.jpg',\n",
       " 'IMG_2342.jpg']"
      ]
     },
     "execution_count": 7,
     "metadata": {},
     "output_type": "execute_result"
    }
   ],
   "source": [
    "# 纯净水的图片\n",
    "files_water = os.listdir(os.path.join(str(dataloaders['train'].dataset.root), 'water'))\n",
    "files_water"
   ]
  },
  {
   "cell_type": "code",
   "execution_count": 8,
   "metadata": {},
   "outputs": [
    {
     "data": {
      "text/plain": [
       "['IMG_2038.jpg',\n",
       " 'IMG_2004.jpg',\n",
       " 'IMG_2017.jpg',\n",
       " 'IMG_2016.jpg',\n",
       " 'IMG_2339.jpg',\n",
       " 'IMG_2064.jpg',\n",
       " 'IMG_2312.jpg',\n",
       " 'IMG_2329.jpg',\n",
       " 'IMG_2062.jpg',\n",
       " 'IMG_2319.jpg',\n",
       " 'IMG_2324.jpg',\n",
       " 'IMG_2332.jpg',\n",
       " 'IMG_2044.jpg',\n",
       " 'IMG_2051.jpg',\n",
       " 'IMG_2337.jpg',\n",
       " 'IMG_2055.jpg',\n",
       " 'IMG_2040.jpg',\n",
       " 'IMG_2068.jpg',\n",
       " 'IMG_2056.jpg',\n",
       " 'IMG_2321.jpg',\n",
       " 'IMG_2346.jpg',\n",
       " 'IMG_2019.jpg',\n",
       " 'IMG_2347.jpg',\n",
       " 'IMG_2384.jpg',\n",
       " 'IMG_2386.jpg',\n",
       " 'IMG_2345.jpg',\n",
       " 'IMG_2027.jpg',\n",
       " 'IMG_2033.jpg',\n",
       " 'IMG_2032.jpg',\n",
       " 'IMG_2387.jpg',\n",
       " 'IMG_2383.jpg',\n",
       " 'IMG_2382.jpg',\n",
       " 'IMG_2343.jpg',\n",
       " 'IMG_2021.jpg',\n",
       " 'IMG_2020.jpg']"
      ]
     },
     "execution_count": 8,
     "metadata": {},
     "output_type": "execute_result"
    }
   ],
   "source": [
    "# 水污染的图片\n",
    "files_contaminated = os.listdir(os.path.join(str(dataloaders['train'].dataset.root), 'Contaminated'))\n",
    "files_contaminated"
   ]
  },
  {
   "cell_type": "code",
   "execution_count": 9,
   "metadata": {},
   "outputs": [
    {
     "data": {
      "text/plain": [
       "Dataset ImageFolder\n",
       "    Number of datapoints: 14\n",
       "    Root location: ./data.new/val/\n",
       "    StandardTransform\n",
       "Transform: Compose(\n",
       "               Resize(size=300, interpolation=bilinear)\n",
       "               CenterCrop(size=(256, 256))\n",
       "               ToTensor()\n",
       "               Normalize(mean=[0.485, 0.456, 0.406], std=[0.229, 0.224, 0.225])\n",
       "           )"
      ]
     },
     "execution_count": 9,
     "metadata": {},
     "output_type": "execute_result"
    }
   ],
   "source": [
    "# val 简介\n",
    "dataloaders['val'].dataset"
   ]
  },
  {
   "cell_type": "code",
   "execution_count": 10,
   "metadata": {},
   "outputs": [
    {
     "data": {
      "text/plain": [
       "Dataset ImageFolder\n",
       "    Number of datapoints: 36\n",
       "    Root location: ./data.new/test/\n",
       "    StandardTransform\n",
       "Transform: Compose(\n",
       "               Resize(size=300, interpolation=bilinear)\n",
       "               CenterCrop(size=(256, 256))\n",
       "               ToTensor()\n",
       "               Normalize(mean=[0.485, 0.456, 0.406], std=[0.229, 0.224, 0.225])\n",
       "           )"
      ]
     },
     "execution_count": 10,
     "metadata": {},
     "output_type": "execute_result"
    }
   ],
   "source": [
    "# test 简介\n",
    "dataloaders['test'].dataset"
   ]
  },
  {
   "cell_type": "code",
   "execution_count": 11,
   "metadata": {
    "scrolled": true
   },
   "outputs": [
    {
     "name": "stderr",
     "output_type": "stream",
     "text": [
      "Clipping input data to the valid range for imshow with RGB data ([0..1] for floats or [0..255] for integers).\n"
     ]
    },
    {
     "data": {
      "image/png": "[encoded data removed]",
      "text/plain": [
       "<Figure size 432x288 with 1 Axes>"
      ]
     },
     "metadata": {
      "needs_background": "light"
     },
     "output_type": "display_data"
    }
   ],
   "source": [
    "# 导入SummaryWriter\n",
    "from tensorboardX import SummaryWriter\n",
    "# SummaryWriter() 向事件文件写入事件和概要\n",
    "\n",
    "# 定义日志路径\n",
    "log_path = 'logdir.new/'\n",
    "\n",
    "# 定义函数：获取tensorboard writer\n",
    "def tb_writer():\n",
    "    timestr = time.strftime(\"%Y%m%d_%H%M%S\") # 时间格式\n",
    "    writer = SummaryWriter(log_path+timestr) # 写入日志\n",
    "    return writer\n",
    "\n",
    "\n",
    "writer = tb_writer()\n",
    "\n",
    "# 第1种方法：显示部分图片集\n",
    "images, labels = next(iter(dataloaders['train'])) # 获取到一批数据\n",
    "\n",
    "# 定义图片显示方法\n",
    "def imshow(img):\n",
    "    img = img / 2 + 0.5 # 逆正则化\n",
    "    np_img = img.numpy() # tensor --> numpy\n",
    "    plt.imshow(np.transpose(np_img, (1, 2, 0))) # 改变通道顺序\n",
    "    plt.show()\n",
    "    \n",
    "grid = utils.make_grid(images) # make_grid的作用是将若干幅图像拼成一幅图像\n",
    "imshow(grid) # 展示图片\n",
    "\n",
    "# 在summary中添加图片数据\n",
    "writer.add_image('Microscopic grid', grid, 0) # add_image(tag, img_tensor, global_step=None, walltime=None, dataformats='CHW')\n",
    "\n",
    "writer.flush() # 把事件文件写入到磁盘"
   ]
  },
  {
   "cell_type": "code",
   "execution_count": 12,
   "metadata": {},
   "outputs": [],
   "source": [
    "# 记录错误分类的图片\n",
    "def misclassified_images(pred, writer, target, images, output, epoch, count=10):\n",
    "    misclassified = (pred != target.data) # 判断是否一致\n",
    "    for index, image_tensor in enumerate(images[misclassified][:count]):\n",
    "        img_name = 'Epoch:{}-->Predict:{}-->Actual:{}'.format(epoch, LABEL[pred[misclassified].tolist()[index]],\n",
    "                                                              LABEL[target.data[misclassified].tolist()[index]])\n",
    "        writer.add_image(img_name, image_tensor, epoch)"
   ]
  },
  {
   "cell_type": "code",
   "execution_count": 13,
   "metadata": {},
   "outputs": [],
   "source": [
    "# 自定义池化层\n",
    "\n",
    "class AdaptiveConcatPool2d(nn.Module):\n",
    "    def __init__(self, size=None):\n",
    "        super(AdaptiveConcatPool2d,self).__init__()\n",
    "        size = size or (1, 1) # kernel大小\n",
    "        # 自适应算法能够自动帮助我们计算核的大小和每次移动的步长。\n",
    "        self.avgPooling = nn.AdaptiveAvgPool2d(size) # 自适应平均池化\n",
    "        self.maxPooling = nn.AdaptiveMaxPool2d(size) # 最大池化\n",
    "    def forward(self, x):\n",
    "        # 拼接avg和max\n",
    "        return torch.cat([self.maxPooling(x), self.avgPooling(x)], dim=1)"
   ]
  },
  {
   "cell_type": "code",
   "execution_count": 14,
   "metadata": {},
   "outputs": [],
   "source": [
    "# 迁移学习：获取预训练模型，并替换池化层和全连接层\n",
    "def get_model():\n",
    "    # 获取欲训练模型 restnet18\n",
    "    model = models.resnet18(pretrained=True)  #models.resnet18\n",
    "    # 冻结模型参数\n",
    "    for param in model.parameters():\n",
    "        param.requires_grad = False \n",
    "    # 替换最后2层：池化层和全连接层\n",
    "    # 池化层\n",
    "    model.avgpool = AdaptiveConcatPool2d()\n",
    "    # 全连接层\n",
    "    model.fc = nn.Sequential(\n",
    "        nn.Flatten(), # 拉平\n",
    "        nn.BatchNorm1d(1024), # 加速神经网络的收敛过程，提高训练过程中的稳定性\n",
    "        nn.Dropout(0.5), # 丢掉部分神经元\n",
    "        nn.Linear(1024, 512), # 全连接层\n",
    "        nn.ReLU(), # 激活函数\n",
    "        nn.BatchNorm1d(512), \n",
    "        nn.Dropout(0.5),\n",
    "        nn.Linear(512, 2), # 2个输出\n",
    "        nn.Softmax(dim=1) # 损失函数：将input转换成概率分布的形式，输出2个概率\n",
    "    )\n",
    "    \n",
    "    return model\n"
   ]
  },
  {
   "cell_type": "code",
   "execution_count": 15,
   "metadata": {},
   "outputs": [],
   "source": [
    "# 定义训练函数\n",
    "def train_val(model, device, train_loader, val_loader, optimizer, criterion, epoch, writer):\n",
    "    model.train()\n",
    "    total_loss = 0.0\n",
    "    val_loss = 0.0\n",
    "    val_acc = 0\n",
    "    for batch_id, (images, labels) in enumerate(train_loader):\n",
    "        # 部署到device上\n",
    "        images, labels = images.to(device), labels.to(device)\n",
    "        # 梯度置0\n",
    "        optimizer.zero_grad()\n",
    "        # 模型输出\n",
    "        outputs = model(images)\n",
    "        # 计算损失\n",
    "        loss = criterion(outputs, labels)\n",
    "        # 反向传播\n",
    "        loss.backward()\n",
    "        # 更新参数\n",
    "        optimizer.step()\n",
    "        # 累计损失\n",
    "        total_loss += loss.item() * images.size(0)\n",
    "    # 平均训练损失\n",
    "    train_loss = total_loss / len(train_loader.dataset)\n",
    "    #写入到writer中\n",
    "    writer.add_scalar('Training Loss', train_loss, epoch)\n",
    "    # 写入到磁盘\n",
    "    writer.flush()\n",
    "    #model.train()\n",
    "    model.eval() \n",
    "    with torch.no_grad():\n",
    "        for images, labels in val_loader:\n",
    "            images, labels = images.to(device), labels.to(device)\n",
    "            outputs = model(images) # 前向传播输出\n",
    "            loss = criterion(outputs, labels) # 损失\n",
    "            val_loss += loss.item() * images.size(0) # 累计损失\n",
    "            _, pred = torch.max(outputs, dim=1) # 获取最大概率的索引\n",
    "            correct = pred.eq(labels.view_as(pred)) # 返回：tensor([ True,False,True,...,False])\n",
    "            accuracy = torch.mean(correct.type(torch.FloatTensor)) # 准确率\n",
    "            val_acc += accuracy.item() * images.size(0) # 累计准确率\n",
    "        # 平均验证损失\n",
    "        val_loss = val_loss / len(val_loader.dataset)\n",
    "        # 平均准确率\n",
    "        val_acc = val_acc / len(val_loader.dataset)\n",
    "        \n",
    "    return train_loss, val_loss, val_acc "
   ]
  },
  {
   "cell_type": "code",
   "execution_count": 16,
   "metadata": {},
   "outputs": [],
   "source": [
    "# 定义测试函数\n",
    "def test(model, device, test_loader, criterion, epoch, writer):\n",
    "    model.eval()\n",
    "    total_loss = 0.0\n",
    "    correct = 0.0 # 正确数\n",
    "    with torch.no_grad():\n",
    "        for batch_id, (images, labels) in enumerate(test_loader):\n",
    "            images, labels = images.to(device), labels.to(device)\n",
    "            # 输出\n",
    "            outputs = model(images)\n",
    "            # 损失\n",
    "            loss = criterion(outputs, labels)\n",
    "            # 累计损失\n",
    "            total_loss += loss.item()\n",
    "            # 获取预测概率最大值的索引\n",
    "            _, predicted = torch.max(outputs, dim=1)\n",
    "            # 累计正确预测的数\n",
    "            correct += predicted.eq(labels.view_as(predicted)).sum().item()\n",
    "            # 错误分类的图片\n",
    "            misclassified_images(predicted, writer, labels, images, outputs, epoch)\n",
    "        # 平均损失\n",
    "        avg_loss = total_loss / len(test_loader.dataset)\n",
    "        # 计算正确率\n",
    "        accuracy = 100 * correct / len(test_loader.dataset)\n",
    "        # 将test的结果写入write\n",
    "        writer.add_scalar(\"Test Loss\", avg_loss, epoch)\n",
    "        writer.add_scalar(\"Accuracy\", accuracy, epoch)\n",
    "        writer.flush()\n",
    "        return avg_loss, accuracy"
   ]
  },
  {
   "cell_type": "code",
   "execution_count": 17,
   "metadata": {},
   "outputs": [
    {
     "name": "stdout",
     "output_type": "stream",
     "text": [
      "cpu\n"
     ]
    }
   ],
   "source": [
    "# 定义训练流程\n",
    "\n",
    "# 是否有GPU\n",
    "device = torch.device('cuda' if torch.cuda.is_available() else 'cpu')\n",
    "\n",
    "print(device.type)\n",
    "\n",
    "# 模型部署到device\n",
    "model = get_model().to(device)\n",
    "model.load_state_dict(torch.load('./model.pth'))\n",
    "# 损失函数\n",
    "class_loss_weight = torch.tensor([3.0, 1.0])\n",
    "criterion = nn.CrossEntropyLoss(weight=class_loss_weight)\n",
    "\n",
    "# 优化器\n",
    "optimizer = optim.SGD(model.parameters(), lr=0.001, weight_decay=1e-5)\n",
    "\n",
    "# 定义训练流程函数\n",
    "def train_epochs(model, device, dataloaders, criterion, optimizer, epochs, writer):\n",
    "    # 输出信息\n",
    "    print(\"{0:>15} | {1:>15} | {2:>15} | {3:>15} | {4:>15} | {5:>15}\".format('Epoch', 'Train Loss', 'val_loss', 'val_acc', 'Test Loss', 'Test_acc'))\n",
    "    # 初始最小的损失\n",
    "    best_loss = np.inf\n",
    "    # 开始训练、测试\n",
    "    for epoch in range(epochs):\n",
    "        # 训练，return: loss\n",
    "        train_loss, val_loss, val_acc = train_val(model, device, dataloaders['train'], dataloaders['val'], optimizer, criterion, epoch, writer)\n",
    "        # 测试，return: loss + accuracy\n",
    "        test_loss, test_acc = test(model, device, dataloaders['test'], criterion, epoch, writer)\n",
    "        # 判断损失是否最小\n",
    "        if test_loss < best_loss:\n",
    "            best_loss = test_loss # 保存最小损失\n",
    "            # 保存模型\n",
    "            torch.save(model.state_dict(), 'model.pth')\n",
    "        # 输出结果\n",
    "        print(\"{0:>15} | {1:>15} | {2:>15} | {3:>15} | {4:>15} | {5:>15}\".format(epoch, train_loss, val_loss, val_acc, test_loss, test_acc))\n",
    "        writer.flush()"
   ]
  },
  {
   "cell_type": "code",
   "execution_count": 18,
   "metadata": {
    "scrolled": true
   },
   "outputs": [
    {
     "name": "stdout",
     "output_type": "stream",
     "text": [
      "----------------------------------------------------------------\n",
      "        Layer (type)               Output Shape         Param #\n",
      "================================================================\n",
      "            Conv2d-1         [-1, 64, 128, 128]           9,408\n",
      "       BatchNorm2d-2         [-1, 64, 128, 128]             128\n",
      "              ReLU-3         [-1, 64, 128, 128]               0\n",
      "         MaxPool2d-4           [-1, 64, 64, 64]               0\n",
      "            Conv2d-5           [-1, 64, 64, 64]          36,864\n",
      "       BatchNorm2d-6           [-1, 64, 64, 64]             128\n",
      "              ReLU-7           [-1, 64, 64, 64]               0\n",
      "            Conv2d-8           [-1, 64, 64, 64]          36,864\n",
      "       BatchNorm2d-9           [-1, 64, 64, 64]             128\n",
      "             ReLU-10           [-1, 64, 64, 64]               0\n",
      "       BasicBlock-11           [-1, 64, 64, 64]               0\n",
      "           Conv2d-12           [-1, 64, 64, 64]          36,864\n",
      "      BatchNorm2d-13           [-1, 64, 64, 64]             128\n",
      "             ReLU-14           [-1, 64, 64, 64]               0\n",
      "           Conv2d-15           [-1, 64, 64, 64]          36,864\n",
      "      BatchNorm2d-16           [-1, 64, 64, 64]             128\n",
      "             ReLU-17           [-1, 64, 64, 64]               0\n",
      "       BasicBlock-18           [-1, 64, 64, 64]               0\n",
      "           Conv2d-19          [-1, 128, 32, 32]          73,728\n",
      "      BatchNorm2d-20          [-1, 128, 32, 32]             256\n",
      "             ReLU-21          [-1, 128, 32, 32]               0\n",
      "           Conv2d-22          [-1, 128, 32, 32]         147,456\n",
      "      BatchNorm2d-23          [-1, 128, 32, 32]             256\n",
      "           Conv2d-24          [-1, 128, 32, 32]           8,192\n",
      "      BatchNorm2d-25          [-1, 128, 32, 32]             256\n",
      "             ReLU-26          [-1, 128, 32, 32]               0\n",
      "       BasicBlock-27          [-1, 128, 32, 32]               0\n",
      "           Conv2d-28          [-1, 128, 32, 32]         147,456\n",
      "      BatchNorm2d-29          [-1, 128, 32, 32]             256\n",
      "             ReLU-30          [-1, 128, 32, 32]               0\n",
      "           Conv2d-31          [-1, 128, 32, 32]         147,456\n",
      "      BatchNorm2d-32          [-1, 128, 32, 32]             256\n",
      "             ReLU-33          [-1, 128, 32, 32]               0\n",
      "       BasicBlock-34          [-1, 128, 32, 32]               0\n",
      "           Conv2d-35          [-1, 256, 16, 16]         294,912\n",
      "      BatchNorm2d-36          [-1, 256, 16, 16]             512\n",
      "             ReLU-37          [-1, 256, 16, 16]               0\n",
      "           Conv2d-38          [-1, 256, 16, 16]         589,824\n",
      "      BatchNorm2d-39          [-1, 256, 16, 16]             512\n",
      "           Conv2d-40          [-1, 256, 16, 16]          32,768\n",
      "      BatchNorm2d-41          [-1, 256, 16, 16]             512\n",
      "             ReLU-42          [-1, 256, 16, 16]               0\n",
      "       BasicBlock-43          [-1, 256, 16, 16]               0\n",
      "           Conv2d-44          [-1, 256, 16, 16]         589,824\n",
      "      BatchNorm2d-45          [-1, 256, 16, 16]             512\n",
      "             ReLU-46          [-1, 256, 16, 16]               0\n",
      "           Conv2d-47          [-1, 256, 16, 16]         589,824\n",
      "      BatchNorm2d-48          [-1, 256, 16, 16]             512\n",
      "             ReLU-49          [-1, 256, 16, 16]               0\n",
      "       BasicBlock-50          [-1, 256, 16, 16]               0\n",
      "           Conv2d-51            [-1, 512, 8, 8]       1,179,648\n",
      "      BatchNorm2d-52            [-1, 512, 8, 8]           1,024\n",
      "             ReLU-53            [-1, 512, 8, 8]               0\n",
      "           Conv2d-54            [-1, 512, 8, 8]       2,359,296\n",
      "      BatchNorm2d-55            [-1, 512, 8, 8]           1,024\n",
      "           Conv2d-56            [-1, 512, 8, 8]         131,072\n",
      "      BatchNorm2d-57            [-1, 512, 8, 8]           1,024\n",
      "             ReLU-58            [-1, 512, 8, 8]               0\n",
      "       BasicBlock-59            [-1, 512, 8, 8]               0\n",
      "           Conv2d-60            [-1, 512, 8, 8]       2,359,296\n",
      "      BatchNorm2d-61            [-1, 512, 8, 8]           1,024\n",
      "             ReLU-62            [-1, 512, 8, 8]               0\n",
      "           Conv2d-63            [-1, 512, 8, 8]       2,359,296\n",
      "      BatchNorm2d-64            [-1, 512, 8, 8]           1,024\n",
      "             ReLU-65            [-1, 512, 8, 8]               0\n",
      "       BasicBlock-66            [-1, 512, 8, 8]               0\n",
      "AdaptiveMaxPool2d-67            [-1, 512, 1, 1]               0\n",
      "AdaptiveAvgPool2d-68            [-1, 512, 1, 1]               0\n",
      "AdaptiveConcatPool2d-69           [-1, 1024, 1, 1]               0\n",
      "          Flatten-70                 [-1, 1024]               0\n",
      "      BatchNorm1d-71                 [-1, 1024]           2,048\n",
      "          Dropout-72                 [-1, 1024]               0\n",
      "           Linear-73                  [-1, 512]         524,800\n",
      "             ReLU-74                  [-1, 512]               0\n",
      "      BatchNorm1d-75                  [-1, 512]           1,024\n",
      "          Dropout-76                  [-1, 512]               0\n",
      "           Linear-77                    [-1, 2]           1,026\n",
      "          Softmax-78                    [-1, 2]               0\n",
      "================================================================\n",
      "Total params: 11,705,410\n",
      "Trainable params: 528,898\n",
      "Non-trainable params: 11,176,512\n",
      "----------------------------------------------------------------\n",
      "Input size (MB): 0.75\n",
      "Forward/backward pass size (MB): 82.05\n",
      "Params size (MB): 44.65\n",
      "Estimated Total Size (MB): 127.46\n",
      "----------------------------------------------------------------\n"
     ]
    }
   ],
   "source": [
    "from torchsummary import summary\n",
    "summary(model, (3,256,256))"
   ]
  },
  {
   "cell_type": "code",
   "execution_count": 19,
   "metadata": {},
   "outputs": [],
   "source": [
    "inputs=torch.ones(8,3,256,256)\n",
    "writer.add_graph(model, input_to_model=inputs)"
   ]
  },
  {
   "cell_type": "code",
   "execution_count": 20,
   "metadata": {
    "scrolled": true
   },
   "outputs": [
    {
     "name": "stdout",
     "output_type": "stream",
     "text": [
      "          Epoch |      Train Loss |        val_loss |         val_acc |       Test Loss |        Test_acc\n",
      "              0 | 0.5069945684501103 | 0.46384778193065096 | 0.8571428486279079 | 0.010735314753320482 | 97.22222222222223\n",
      "              1 | 0.4651058844157628 | 0.436036548444203 | 0.9285714285714286 | 0.010937885277801089 | 94.44444444444444\n",
      "              2 | 0.5129405796527863 | 0.4202036942754473 | 0.785714294229235 | 0.011036169197824266 | 88.88888888888889\n",
      "              3 | 0.48357452324458533 | 0.4286478246961321 | 0.8571428486279079 | 0.011020840870009528 | 94.44444444444444\n",
      "              4 | 0.49877632004874095 | 0.41273871064186096 | 0.9285714200564793 | 0.010806664824485779 | 94.44444444444444\n",
      "              5 | 0.45600717834063936 | 0.41537134987967356 | 0.9285714200564793 | 0.010840930044651031 | 94.44444444444444\n",
      "              6 | 0.48729471734591895 | 0.41340495007378714 | 0.8571428486279079 | 0.010897642208470238 | 91.66666666666667\n",
      "              7 | 0.40600514582225256 | 0.4204005556447165 | 0.9285714285714286 | 0.010929665631718107 | 94.44444444444444\n",
      "              8 | 0.5348343551158905 | 0.40227567298071726 | 0.9285714285714286 | 0.010690960619184706 | 94.44444444444444\n",
      "              9 | 0.4556287058762142 | 0.40581669551985605 | 0.9285714285714286 | 0.010500028729438782 | 94.44444444444444\n"
     ]
    }
   ],
   "source": [
    "# 调用函数\n",
    "epochs=10\n",
    "train_epochs(model, device, dataloaders, criterion, optimizer, epochs, writer)\n",
    "writer.close()"
   ]
  },
  {
   "cell_type": "code",
   "execution_count": 21,
   "metadata": {},
   "outputs": [],
   "source": [
    "def plot_confusion(cm):\n",
    "    plt.figure()\n",
    "    plot_confusion_matrix(cm, figsize=(12, 8), cmap=plt.cm.Blues) # 参数设置\n",
    "    plt.xticks(range(2), ['contaminated', 'water'], fontsize=14)\n",
    "    plt.yticks(range(2), ['contaminated', 'water'], fontsize=14)\n",
    "    plt.xlabel('Predicted Label', fontsize=16)\n",
    "    plt.ylabel('True Label', fontsize=16)\n",
    "    plt.show()"
   ]
  },
  {
   "cell_type": "code",
   "execution_count": 22,
   "metadata": {},
   "outputs": [],
   "source": [
    "def accuracy(outputs, labels):\n",
    "    # 计算正确率\n",
    "    _, preds = torch.max(outputs, dim=1)\n",
    "    correct = torch.tensor(torch.sum(preds == labels).item() / len(preds))\n",
    "    return correct"
   ]
  },
  {
   "cell_type": "code",
   "execution_count": 23,
   "metadata": {},
   "outputs": [],
   "source": [
    "def metrics(outputs, labels):\n",
    "    _, preds = torch.max(outputs, dim=1)\n",
    "    # precision, recall, F1\n",
    "    # 混淆矩阵\n",
    "    cm = confusion_matrix(labels.cpu().numpy(), preds.cpu().numpy())\n",
    "    # 绘制混淆矩阵\n",
    "    plot_confusion(cm) \n",
    "    # 获取tn, fp, fn, tp\n",
    "    tn, fp, fn, tp = cm.ravel()\n",
    "    # 精准率\n",
    "    precision = tp / (tp + fp)\n",
    "    # 召回率\n",
    "    recall = tp / (tp + fn)\n",
    "    # f1 score\n",
    "    f1 = 2 * ((precision * recall) / (precision + recall))\n",
    "    return precision, recall, f1"
   ]
  },
  {
   "cell_type": "code",
   "execution_count": 24,
   "metadata": {
    "scrolled": false
   },
   "outputs": [
    {
     "name": "stdout",
     "output_type": "stream",
     "text": [
      "datas: torch.Size([36, 3, 256, 256])\n",
      "labels: tensor([0, 0, 1, 1, 1, 1, 0, 0, 1, 1, 1, 0, 1, 1, 1, 1, 0, 0, 1, 0, 0, 1, 1, 0,\n",
      "        0, 0, 1, 0, 0, 0, 1, 0, 1, 1, 0, 0])\n",
      "outputs: tensor([[0.9700, 0.0300],\n",
      "        [0.9968, 0.0032],\n",
      "        [0.2090, 0.7910],\n",
      "        [0.0913, 0.9087],\n",
      "        [0.1139, 0.8861],\n",
      "        [0.1623, 0.8377],\n",
      "        [0.8890, 0.1110],\n",
      "        [0.9945, 0.0055],\n",
      "        [0.3206, 0.6794],\n",
      "        [0.4201, 0.5799],\n",
      "        [0.0313, 0.9687],\n",
      "        [0.9411, 0.0589],\n",
      "        [0.1108, 0.8892],\n",
      "        [0.5966, 0.4034],\n",
      "        [0.1454, 0.8546],\n",
      "        [0.1243, 0.8757],\n",
      "        [0.9976, 0.0024],\n",
      "        [0.9869, 0.0131],\n",
      "        [0.2216, 0.7784],\n",
      "        [0.9783, 0.0217],\n",
      "        [0.9732, 0.0268],\n",
      "        [0.5392, 0.4608],\n",
      "        [0.4002, 0.5998],\n",
      "        [0.9504, 0.0496],\n",
      "        [0.9601, 0.0399],\n",
      "        [0.9725, 0.0275],\n",
      "        [0.3395, 0.6605],\n",
      "        [0.8877, 0.1123],\n",
      "        [0.9989, 0.0011],\n",
      "        [0.7484, 0.2516],\n",
      "        [0.1685, 0.8315],\n",
      "        [0.9676, 0.0324],\n",
      "        [0.1513, 0.8487],\n",
      "        [0.2179, 0.7821],\n",
      "        [0.9677, 0.0323],\n",
      "        [0.8776, 0.1224]])\n"
     ]
    },
    {
     "data": {
      "text/plain": [
       "<Figure size 432x288 with 0 Axes>"
      ]
     },
     "metadata": {},
     "output_type": "display_data"
    },
    {
     "data": {
      "image/png": "[encoded data removed]",
      "text/plain": [
       "<Figure size 864x576 with 1 Axes>"
      ]
     },
     "metadata": {
      "needs_background": "light"
     },
     "output_type": "display_data"
    }
   ],
   "source": [
    "# 计算testloader\n",
    "precisions = []\n",
    "recalls = []\n",
    "f1s = []\n",
    "accuracies = []\n",
    "\n",
    "with torch.no_grad():\n",
    "    model.eval()\n",
    "    for datas, labels in dataloaders['test']:\n",
    "        print('datas:',datas.shape)\n",
    "        print('labels:', labels)\n",
    "        datas, labels = datas.to(device), labels.to(device)\n",
    "        # 预测输出\n",
    "        outputs = model(datas)\n",
    "        print('outputs:', outputs)\n",
    "        # 计算metrics\n",
    "        precision, recall, f1 = metrics(outputs, labels)\n",
    "        acc = accuracy(outputs, labels)\n",
    "        # 保存结果\n",
    "        precisions.append(precision)\n",
    "        recalls.append(recall)\n",
    "        f1s.append(f1)\n",
    "        accuracies.append(acc.item())"
   ]
  },
  {
   "cell_type": "code",
   "execution_count": 25,
   "metadata": {},
   "outputs": [
    {
     "data": {
      "text/plain": [
       "['100.00%']"
      ]
     },
     "execution_count": 25,
     "metadata": {},
     "output_type": "execute_result"
    }
   ],
   "source": [
    "['{:.2f}%'.format(pre*100) for pre in precisions]# 精准率 precision"
   ]
  },
  {
   "cell_type": "code",
   "execution_count": 26,
   "metadata": {},
   "outputs": [
    {
     "data": {
      "text/plain": [
       "['88.89%']"
      ]
     },
     "execution_count": 26,
     "metadata": {},
     "output_type": "execute_result"
    }
   ],
   "source": [
    "['{:.2f}%'.format(r*100) for r in recalls]# 召回率 recall"
   ]
  },
  {
   "cell_type": "code",
   "execution_count": 27,
   "metadata": {},
   "outputs": [
    {
     "data": {
      "text/plain": [
       "['94.12%']"
      ]
     },
     "execution_count": 27,
     "metadata": {},
     "output_type": "execute_result"
    }
   ],
   "source": [
    "['{:.2f}%'.format(f*100) for f in f1s]# f1"
   ]
  },
  {
   "cell_type": "code",
   "execution_count": 28,
   "metadata": {},
   "outputs": [
    {
     "data": {
      "text/plain": [
       "['94.44%']"
      ]
     },
     "execution_count": 28,
     "metadata": {},
     "output_type": "execute_result"
    }
   ],
   "source": [
    "['{:.2f}%'.format(a*100) for a in accuracies]# 准确率 accuracy"
   ]
  },
  {
   "cell_type": "code",
   "execution_count": null,
   "metadata": {},
   "outputs": [],
   "source": []
  }
 ],
 "metadata": {
  "kernelspec": {
   "display_name": "Python 3",
   "language": "python",
   "name": "python3"
  },
  "language_info": {
   "codemirror_mode": {
    "name": "ipython",
    "version": 3
   },
   "file_extension": ".py",
   "mimetype": "text/x-python",
   "name": "python",
   "nbconvert_exporter": "python",
   "pygments_lexer": "ipython3",
   "version": "3.8.5"
  }
 },
 "nbformat": 4,
 "nbformat_minor": 4
}
